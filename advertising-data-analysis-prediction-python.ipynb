{
 "cells": [
  {
   "cell_type": "markdown",
   "id": "864f2e60",
   "metadata": {
    "_cell_guid": "b1076dfc-b9ad-4769-8c92-a6c4dae69d19",
    "_uuid": "8f2839f25d086af736a60e9eeb907d3b93b6e0e5",
    "papermill": {
     "duration": 0.01423,
     "end_time": "2023-09-13T07:27:49.676767",
     "exception": false,
     "start_time": "2023-09-13T07:27:49.662537",
     "status": "completed"
    },
    "tags": []
   },
   "source": [
    "# Advertising Data Analysis And Prediction With Python\n",
    "## Created And Done By \"Anubhav Kumar Gupta\""
   ]
  },
  {
   "cell_type": "code",
   "execution_count": 1,
   "id": "0adfb436",
   "metadata": {
    "execution": {
     "iopub.execute_input": "2023-09-13T07:27:49.706288Z",
     "iopub.status.busy": "2023-09-13T07:27:49.705589Z",
     "iopub.status.idle": "2023-09-13T07:27:49.722604Z",
     "shell.execute_reply": "2023-09-13T07:27:49.721301Z"
    },
    "papermill": {
     "duration": 0.034972,
     "end_time": "2023-09-13T07:27:49.725570",
     "exception": false,
     "start_time": "2023-09-13T07:27:49.690598",
     "status": "completed"
    },
    "tags": []
   },
   "outputs": [
    {
     "data": {
      "text/html": [
       "<img src=\"https://previews.123rf.com/images/robuart/robuart1902/robuart190202323/117228198-media-advertisement-vector-television-and-radio-with-antenna-laptop-screen-advertisement-product.jpg\" width=\"500\" height=\"500\"/>"
      ],
      "text/plain": [
       "<IPython.core.display.Image object>"
      ]
     },
     "execution_count": 1,
     "metadata": {},
     "output_type": "execute_result"
    }
   ],
   "source": [
    "import IPython.display as dsp\n",
    "dsp.Image(url='https://previews.123rf.com/images/robuart/robuart1902/robuart190202323/117228198-media-advertisement-vector-television-and-radio-with-antenna-laptop-screen-advertisement-product.jpg',width=500,height=500)"
   ]
  },
  {
   "cell_type": "code",
   "execution_count": 2,
   "id": "05f28a7b",
   "metadata": {
    "execution": {
     "iopub.execute_input": "2023-09-13T07:27:49.756493Z",
     "iopub.status.busy": "2023-09-13T07:27:49.755639Z",
     "iopub.status.idle": "2023-09-13T07:27:52.311308Z",
     "shell.execute_reply": "2023-09-13T07:27:52.310285Z"
    },
    "papermill": {
     "duration": 2.573956,
     "end_time": "2023-09-13T07:27:52.314051",
     "exception": false,
     "start_time": "2023-09-13T07:27:49.740095",
     "status": "completed"
    },
    "tags": []
   },
   "outputs": [
    {
     "name": "stderr",
     "output_type": "stream",
     "text": [
      "/opt/conda/lib/python3.10/site-packages/scipy/__init__.py:146: UserWarning: A NumPy version >=1.16.5 and <1.23.0 is required for this version of SciPy (detected version 1.23.5\n",
      "  warnings.warn(f\"A NumPy version >={np_minversion} and <{np_maxversion}\"\n"
     ]
    }
   ],
   "source": [
    "import numpy as np\n",
    "import pandas as pd\n",
    "import seaborn as sns\n",
    "import plotly.express as px"
   ]
  },
  {
   "cell_type": "code",
   "execution_count": 3,
   "id": "a72ab4c7",
   "metadata": {
    "execution": {
     "iopub.execute_input": "2023-09-13T07:27:52.347048Z",
     "iopub.status.busy": "2023-09-13T07:27:52.345934Z",
     "iopub.status.idle": "2023-09-13T07:27:52.379758Z",
     "shell.execute_reply": "2023-09-13T07:27:52.378447Z"
    },
    "papermill": {
     "duration": 0.052532,
     "end_time": "2023-09-13T07:27:52.383001",
     "exception": false,
     "start_time": "2023-09-13T07:27:52.330469",
     "status": "completed"
    },
    "tags": []
   },
   "outputs": [],
   "source": [
    "df=pd.read_csv('/kaggle/input/advertisingcsv/Advertising.csv')"
   ]
  },
  {
   "cell_type": "code",
   "execution_count": 4,
   "id": "a65c58d8",
   "metadata": {
    "execution": {
     "iopub.execute_input": "2023-09-13T07:27:52.415906Z",
     "iopub.status.busy": "2023-09-13T07:27:52.414851Z",
     "iopub.status.idle": "2023-09-13T07:27:52.440283Z",
     "shell.execute_reply": "2023-09-13T07:27:52.439374Z"
    },
    "papermill": {
     "duration": 0.044487,
     "end_time": "2023-09-13T07:27:52.442646",
     "exception": false,
     "start_time": "2023-09-13T07:27:52.398159",
     "status": "completed"
    },
    "tags": []
   },
   "outputs": [
    {
     "data": {
      "text/html": [
       "<div>\n",
       "<style scoped>\n",
       "    .dataframe tbody tr th:only-of-type {\n",
       "        vertical-align: middle;\n",
       "    }\n",
       "\n",
       "    .dataframe tbody tr th {\n",
       "        vertical-align: top;\n",
       "    }\n",
       "\n",
       "    .dataframe thead th {\n",
       "        text-align: right;\n",
       "    }\n",
       "</style>\n",
       "<table border=\"1\" class=\"dataframe\">\n",
       "  <thead>\n",
       "    <tr style=\"text-align: right;\">\n",
       "      <th></th>\n",
       "      <th>Unnamed: 0</th>\n",
       "      <th>TV</th>\n",
       "      <th>Radio</th>\n",
       "      <th>Newspaper</th>\n",
       "      <th>Sales</th>\n",
       "    </tr>\n",
       "  </thead>\n",
       "  <tbody>\n",
       "    <tr>\n",
       "      <th>0</th>\n",
       "      <td>1</td>\n",
       "      <td>230.1</td>\n",
       "      <td>37.8</td>\n",
       "      <td>69.2</td>\n",
       "      <td>22.1</td>\n",
       "    </tr>\n",
       "    <tr>\n",
       "      <th>1</th>\n",
       "      <td>2</td>\n",
       "      <td>44.5</td>\n",
       "      <td>39.3</td>\n",
       "      <td>45.1</td>\n",
       "      <td>10.4</td>\n",
       "    </tr>\n",
       "    <tr>\n",
       "      <th>2</th>\n",
       "      <td>3</td>\n",
       "      <td>17.2</td>\n",
       "      <td>45.9</td>\n",
       "      <td>69.3</td>\n",
       "      <td>9.3</td>\n",
       "    </tr>\n",
       "    <tr>\n",
       "      <th>3</th>\n",
       "      <td>4</td>\n",
       "      <td>151.5</td>\n",
       "      <td>41.3</td>\n",
       "      <td>58.5</td>\n",
       "      <td>18.5</td>\n",
       "    </tr>\n",
       "    <tr>\n",
       "      <th>4</th>\n",
       "      <td>5</td>\n",
       "      <td>180.8</td>\n",
       "      <td>10.8</td>\n",
       "      <td>58.4</td>\n",
       "      <td>12.9</td>\n",
       "    </tr>\n",
       "  </tbody>\n",
       "</table>\n",
       "</div>"
      ],
      "text/plain": [
       "   Unnamed: 0     TV  Radio  Newspaper  Sales\n",
       "0           1  230.1   37.8       69.2   22.1\n",
       "1           2   44.5   39.3       45.1   10.4\n",
       "2           3   17.2   45.9       69.3    9.3\n",
       "3           4  151.5   41.3       58.5   18.5\n",
       "4           5  180.8   10.8       58.4   12.9"
      ]
     },
     "execution_count": 4,
     "metadata": {},
     "output_type": "execute_result"
    }
   ],
   "source": [
    "df.head()"
   ]
  },
  {
   "cell_type": "code",
   "execution_count": 5,
   "id": "4320d637",
   "metadata": {
    "execution": {
     "iopub.execute_input": "2023-09-13T07:27:52.473840Z",
     "iopub.status.busy": "2023-09-13T07:27:52.472983Z",
     "iopub.status.idle": "2023-09-13T07:27:52.489506Z",
     "shell.execute_reply": "2023-09-13T07:27:52.488319Z"
    },
    "papermill": {
     "duration": 0.035108,
     "end_time": "2023-09-13T07:27:52.492110",
     "exception": false,
     "start_time": "2023-09-13T07:27:52.457002",
     "status": "completed"
    },
    "tags": []
   },
   "outputs": [
    {
     "data": {
      "text/html": [
       "<div>\n",
       "<style scoped>\n",
       "    .dataframe tbody tr th:only-of-type {\n",
       "        vertical-align: middle;\n",
       "    }\n",
       "\n",
       "    .dataframe tbody tr th {\n",
       "        vertical-align: top;\n",
       "    }\n",
       "\n",
       "    .dataframe thead th {\n",
       "        text-align: right;\n",
       "    }\n",
       "</style>\n",
       "<table border=\"1\" class=\"dataframe\">\n",
       "  <thead>\n",
       "    <tr style=\"text-align: right;\">\n",
       "      <th></th>\n",
       "      <th>Unnamed: 0</th>\n",
       "      <th>TV</th>\n",
       "      <th>Radio</th>\n",
       "      <th>Newspaper</th>\n",
       "      <th>Sales</th>\n",
       "    </tr>\n",
       "  </thead>\n",
       "  <tbody>\n",
       "    <tr>\n",
       "      <th>195</th>\n",
       "      <td>196</td>\n",
       "      <td>38.2</td>\n",
       "      <td>3.7</td>\n",
       "      <td>13.8</td>\n",
       "      <td>7.6</td>\n",
       "    </tr>\n",
       "    <tr>\n",
       "      <th>196</th>\n",
       "      <td>197</td>\n",
       "      <td>94.2</td>\n",
       "      <td>4.9</td>\n",
       "      <td>8.1</td>\n",
       "      <td>9.7</td>\n",
       "    </tr>\n",
       "    <tr>\n",
       "      <th>197</th>\n",
       "      <td>198</td>\n",
       "      <td>177.0</td>\n",
       "      <td>9.3</td>\n",
       "      <td>6.4</td>\n",
       "      <td>12.8</td>\n",
       "    </tr>\n",
       "    <tr>\n",
       "      <th>198</th>\n",
       "      <td>199</td>\n",
       "      <td>283.6</td>\n",
       "      <td>42.0</td>\n",
       "      <td>66.2</td>\n",
       "      <td>25.5</td>\n",
       "    </tr>\n",
       "    <tr>\n",
       "      <th>199</th>\n",
       "      <td>200</td>\n",
       "      <td>232.1</td>\n",
       "      <td>8.6</td>\n",
       "      <td>8.7</td>\n",
       "      <td>13.4</td>\n",
       "    </tr>\n",
       "  </tbody>\n",
       "</table>\n",
       "</div>"
      ],
      "text/plain": [
       "     Unnamed: 0     TV  Radio  Newspaper  Sales\n",
       "195         196   38.2    3.7       13.8    7.6\n",
       "196         197   94.2    4.9        8.1    9.7\n",
       "197         198  177.0    9.3        6.4   12.8\n",
       "198         199  283.6   42.0       66.2   25.5\n",
       "199         200  232.1    8.6        8.7   13.4"
      ]
     },
     "execution_count": 5,
     "metadata": {},
     "output_type": "execute_result"
    }
   ],
   "source": [
    "df.tail()"
   ]
  },
  {
   "cell_type": "code",
   "execution_count": 6,
   "id": "2f2d610b",
   "metadata": {
    "execution": {
     "iopub.execute_input": "2023-09-13T07:27:52.523242Z",
     "iopub.status.busy": "2023-09-13T07:27:52.522831Z",
     "iopub.status.idle": "2023-09-13T07:27:52.530334Z",
     "shell.execute_reply": "2023-09-13T07:27:52.529083Z"
    },
    "papermill": {
     "duration": 0.025673,
     "end_time": "2023-09-13T07:27:52.532756",
     "exception": false,
     "start_time": "2023-09-13T07:27:52.507083",
     "status": "completed"
    },
    "tags": []
   },
   "outputs": [
    {
     "data": {
      "text/plain": [
       "(200, 5)"
      ]
     },
     "execution_count": 6,
     "metadata": {},
     "output_type": "execute_result"
    }
   ],
   "source": [
    "df.shape"
   ]
  },
  {
   "cell_type": "code",
   "execution_count": 7,
   "id": "71f0dac1",
   "metadata": {
    "execution": {
     "iopub.execute_input": "2023-09-13T07:27:52.564468Z",
     "iopub.status.busy": "2023-09-13T07:27:52.563689Z",
     "iopub.status.idle": "2023-09-13T07:27:52.571795Z",
     "shell.execute_reply": "2023-09-13T07:27:52.570665Z"
    },
    "papermill": {
     "duration": 0.02676,
     "end_time": "2023-09-13T07:27:52.574251",
     "exception": false,
     "start_time": "2023-09-13T07:27:52.547491",
     "status": "completed"
    },
    "tags": []
   },
   "outputs": [
    {
     "data": {
      "text/plain": [
       "1000"
      ]
     },
     "execution_count": 7,
     "metadata": {},
     "output_type": "execute_result"
    }
   ],
   "source": [
    "df.size"
   ]
  },
  {
   "cell_type": "code",
   "execution_count": 8,
   "id": "ecae2481",
   "metadata": {
    "execution": {
     "iopub.execute_input": "2023-09-13T07:27:52.608004Z",
     "iopub.status.busy": "2023-09-13T07:27:52.606720Z",
     "iopub.status.idle": "2023-09-13T07:27:52.636703Z",
     "shell.execute_reply": "2023-09-13T07:27:52.635794Z"
    },
    "papermill": {
     "duration": 0.0496,
     "end_time": "2023-09-13T07:27:52.639118",
     "exception": false,
     "start_time": "2023-09-13T07:27:52.589518",
     "status": "completed"
    },
    "tags": []
   },
   "outputs": [
    {
     "name": "stdout",
     "output_type": "stream",
     "text": [
      "<class 'pandas.core.frame.DataFrame'>\n",
      "RangeIndex: 200 entries, 0 to 199\n",
      "Data columns (total 5 columns):\n",
      " #   Column      Non-Null Count  Dtype  \n",
      "---  ------      --------------  -----  \n",
      " 0   Unnamed: 0  200 non-null    int64  \n",
      " 1   TV          200 non-null    float64\n",
      " 2   Radio       200 non-null    float64\n",
      " 3   Newspaper   200 non-null    float64\n",
      " 4   Sales       200 non-null    float64\n",
      "dtypes: float64(4), int64(1)\n",
      "memory usage: 7.9 KB\n"
     ]
    }
   ],
   "source": [
    "df.info()"
   ]
  },
  {
   "cell_type": "code",
   "execution_count": 9,
   "id": "874f75f0",
   "metadata": {
    "execution": {
     "iopub.execute_input": "2023-09-13T07:27:52.671599Z",
     "iopub.status.busy": "2023-09-13T07:27:52.671122Z",
     "iopub.status.idle": "2023-09-13T07:27:52.706448Z",
     "shell.execute_reply": "2023-09-13T07:27:52.704847Z"
    },
    "papermill": {
     "duration": 0.055159,
     "end_time": "2023-09-13T07:27:52.709298",
     "exception": false,
     "start_time": "2023-09-13T07:27:52.654139",
     "status": "completed"
    },
    "tags": []
   },
   "outputs": [
    {
     "data": {
      "text/html": [
       "<div>\n",
       "<style scoped>\n",
       "    .dataframe tbody tr th:only-of-type {\n",
       "        vertical-align: middle;\n",
       "    }\n",
       "\n",
       "    .dataframe tbody tr th {\n",
       "        vertical-align: top;\n",
       "    }\n",
       "\n",
       "    .dataframe thead th {\n",
       "        text-align: right;\n",
       "    }\n",
       "</style>\n",
       "<table border=\"1\" class=\"dataframe\">\n",
       "  <thead>\n",
       "    <tr style=\"text-align: right;\">\n",
       "      <th></th>\n",
       "      <th>Unnamed: 0</th>\n",
       "      <th>TV</th>\n",
       "      <th>Radio</th>\n",
       "      <th>Newspaper</th>\n",
       "      <th>Sales</th>\n",
       "    </tr>\n",
       "  </thead>\n",
       "  <tbody>\n",
       "    <tr>\n",
       "      <th>count</th>\n",
       "      <td>200.000000</td>\n",
       "      <td>200.000000</td>\n",
       "      <td>200.000000</td>\n",
       "      <td>200.000000</td>\n",
       "      <td>200.000000</td>\n",
       "    </tr>\n",
       "    <tr>\n",
       "      <th>mean</th>\n",
       "      <td>100.500000</td>\n",
       "      <td>147.042500</td>\n",
       "      <td>23.264000</td>\n",
       "      <td>30.554000</td>\n",
       "      <td>14.022500</td>\n",
       "    </tr>\n",
       "    <tr>\n",
       "      <th>std</th>\n",
       "      <td>57.879185</td>\n",
       "      <td>85.854236</td>\n",
       "      <td>14.846809</td>\n",
       "      <td>21.778621</td>\n",
       "      <td>5.217457</td>\n",
       "    </tr>\n",
       "    <tr>\n",
       "      <th>min</th>\n",
       "      <td>1.000000</td>\n",
       "      <td>0.700000</td>\n",
       "      <td>0.000000</td>\n",
       "      <td>0.300000</td>\n",
       "      <td>1.600000</td>\n",
       "    </tr>\n",
       "    <tr>\n",
       "      <th>25%</th>\n",
       "      <td>50.750000</td>\n",
       "      <td>74.375000</td>\n",
       "      <td>9.975000</td>\n",
       "      <td>12.750000</td>\n",
       "      <td>10.375000</td>\n",
       "    </tr>\n",
       "    <tr>\n",
       "      <th>50%</th>\n",
       "      <td>100.500000</td>\n",
       "      <td>149.750000</td>\n",
       "      <td>22.900000</td>\n",
       "      <td>25.750000</td>\n",
       "      <td>12.900000</td>\n",
       "    </tr>\n",
       "    <tr>\n",
       "      <th>75%</th>\n",
       "      <td>150.250000</td>\n",
       "      <td>218.825000</td>\n",
       "      <td>36.525000</td>\n",
       "      <td>45.100000</td>\n",
       "      <td>17.400000</td>\n",
       "    </tr>\n",
       "    <tr>\n",
       "      <th>max</th>\n",
       "      <td>200.000000</td>\n",
       "      <td>296.400000</td>\n",
       "      <td>49.600000</td>\n",
       "      <td>114.000000</td>\n",
       "      <td>27.000000</td>\n",
       "    </tr>\n",
       "  </tbody>\n",
       "</table>\n",
       "</div>"
      ],
      "text/plain": [
       "       Unnamed: 0          TV       Radio   Newspaper       Sales\n",
       "count  200.000000  200.000000  200.000000  200.000000  200.000000\n",
       "mean   100.500000  147.042500   23.264000   30.554000   14.022500\n",
       "std     57.879185   85.854236   14.846809   21.778621    5.217457\n",
       "min      1.000000    0.700000    0.000000    0.300000    1.600000\n",
       "25%     50.750000   74.375000    9.975000   12.750000   10.375000\n",
       "50%    100.500000  149.750000   22.900000   25.750000   12.900000\n",
       "75%    150.250000  218.825000   36.525000   45.100000   17.400000\n",
       "max    200.000000  296.400000   49.600000  114.000000   27.000000"
      ]
     },
     "execution_count": 9,
     "metadata": {},
     "output_type": "execute_result"
    }
   ],
   "source": [
    "df.describe()"
   ]
  },
  {
   "cell_type": "code",
   "execution_count": 10,
   "id": "f0a54593",
   "metadata": {
    "execution": {
     "iopub.execute_input": "2023-09-13T07:27:52.744395Z",
     "iopub.status.busy": "2023-09-13T07:27:52.743633Z",
     "iopub.status.idle": "2023-09-13T07:27:52.753535Z",
     "shell.execute_reply": "2023-09-13T07:27:52.752316Z"
    },
    "papermill": {
     "duration": 0.030559,
     "end_time": "2023-09-13T07:27:52.756040",
     "exception": false,
     "start_time": "2023-09-13T07:27:52.725481",
     "status": "completed"
    },
    "tags": []
   },
   "outputs": [
    {
     "data": {
      "text/plain": [
       "Unnamed: 0    0\n",
       "TV            0\n",
       "Radio         0\n",
       "Newspaper     0\n",
       "Sales         0\n",
       "dtype: int64"
      ]
     },
     "execution_count": 10,
     "metadata": {},
     "output_type": "execute_result"
    }
   ],
   "source": [
    "df.isna().sum()"
   ]
  },
  {
   "cell_type": "code",
   "execution_count": 11,
   "id": "04e7a734",
   "metadata": {
    "execution": {
     "iopub.execute_input": "2023-09-13T07:27:52.789820Z",
     "iopub.status.busy": "2023-09-13T07:27:52.789393Z",
     "iopub.status.idle": "2023-09-13T07:27:52.800372Z",
     "shell.execute_reply": "2023-09-13T07:27:52.799107Z"
    },
    "papermill": {
     "duration": 0.031485,
     "end_time": "2023-09-13T07:27:52.803028",
     "exception": false,
     "start_time": "2023-09-13T07:27:52.771543",
     "status": "completed"
    },
    "tags": []
   },
   "outputs": [
    {
     "data": {
      "text/plain": [
       "0"
      ]
     },
     "execution_count": 11,
     "metadata": {},
     "output_type": "execute_result"
    }
   ],
   "source": [
    "df.duplicated().sum()"
   ]
  },
  {
   "cell_type": "code",
   "execution_count": 12,
   "id": "f403a6f6",
   "metadata": {
    "execution": {
     "iopub.execute_input": "2023-09-13T07:27:52.837685Z",
     "iopub.status.busy": "2023-09-13T07:27:52.837239Z",
     "iopub.status.idle": "2023-09-13T07:27:52.852651Z",
     "shell.execute_reply": "2023-09-13T07:27:52.851463Z"
    },
    "papermill": {
     "duration": 0.035464,
     "end_time": "2023-09-13T07:27:52.855302",
     "exception": false,
     "start_time": "2023-09-13T07:27:52.819838",
     "status": "completed"
    },
    "tags": []
   },
   "outputs": [
    {
     "data": {
      "text/html": [
       "<div>\n",
       "<style scoped>\n",
       "    .dataframe tbody tr th:only-of-type {\n",
       "        vertical-align: middle;\n",
       "    }\n",
       "\n",
       "    .dataframe tbody tr th {\n",
       "        vertical-align: top;\n",
       "    }\n",
       "\n",
       "    .dataframe thead th {\n",
       "        text-align: right;\n",
       "    }\n",
       "</style>\n",
       "<table border=\"1\" class=\"dataframe\">\n",
       "  <thead>\n",
       "    <tr style=\"text-align: right;\">\n",
       "      <th></th>\n",
       "      <th>Unnamed: 0</th>\n",
       "      <th>TV</th>\n",
       "      <th>Radio</th>\n",
       "      <th>Newspaper</th>\n",
       "      <th>Sales</th>\n",
       "    </tr>\n",
       "  </thead>\n",
       "  <tbody>\n",
       "  </tbody>\n",
       "</table>\n",
       "</div>"
      ],
      "text/plain": [
       "Empty DataFrame\n",
       "Columns: [Unnamed: 0, TV, Radio, Newspaper, Sales]\n",
       "Index: []"
      ]
     },
     "execution_count": 12,
     "metadata": {},
     "output_type": "execute_result"
    }
   ],
   "source": [
    "df[df.duplicated(subset=df.columns,keep=False)]"
   ]
  },
  {
   "cell_type": "code",
   "execution_count": 13,
   "id": "1b60cffd",
   "metadata": {
    "execution": {
     "iopub.execute_input": "2023-09-13T07:27:52.889192Z",
     "iopub.status.busy": "2023-09-13T07:27:52.888719Z",
     "iopub.status.idle": "2023-09-13T07:27:52.897059Z",
     "shell.execute_reply": "2023-09-13T07:27:52.895798Z"
    },
    "papermill": {
     "duration": 0.028155,
     "end_time": "2023-09-13T07:27:52.899787",
     "exception": false,
     "start_time": "2023-09-13T07:27:52.871632",
     "status": "completed"
    },
    "tags": []
   },
   "outputs": [
    {
     "data": {
      "text/plain": [
       "Index(['Unnamed: 0', 'TV', 'Radio', 'Newspaper', 'Sales'], dtype='object')"
      ]
     },
     "execution_count": 13,
     "metadata": {},
     "output_type": "execute_result"
    }
   ],
   "source": [
    "df.columns"
   ]
  },
  {
   "cell_type": "code",
   "execution_count": 14,
   "id": "a66f4b26",
   "metadata": {
    "execution": {
     "iopub.execute_input": "2023-09-13T07:27:52.933841Z",
     "iopub.status.busy": "2023-09-13T07:27:52.933371Z",
     "iopub.status.idle": "2023-09-13T07:27:52.940760Z",
     "shell.execute_reply": "2023-09-13T07:27:52.939529Z"
    },
    "papermill": {
     "duration": 0.027091,
     "end_time": "2023-09-13T07:27:52.943238",
     "exception": false,
     "start_time": "2023-09-13T07:27:52.916147",
     "status": "completed"
    },
    "tags": []
   },
   "outputs": [],
   "source": [
    "df.drop(['Unnamed: 0'],axis=1,inplace=True)"
   ]
  },
  {
   "cell_type": "code",
   "execution_count": 15,
   "id": "c30795a1",
   "metadata": {
    "execution": {
     "iopub.execute_input": "2023-09-13T07:27:52.977262Z",
     "iopub.status.busy": "2023-09-13T07:27:52.976826Z",
     "iopub.status.idle": "2023-09-13T07:27:52.993557Z",
     "shell.execute_reply": "2023-09-13T07:27:52.992345Z"
    },
    "papermill": {
     "duration": 0.037093,
     "end_time": "2023-09-13T07:27:52.996391",
     "exception": false,
     "start_time": "2023-09-13T07:27:52.959298",
     "status": "completed"
    },
    "tags": []
   },
   "outputs": [
    {
     "data": {
      "text/html": [
       "<div>\n",
       "<style scoped>\n",
       "    .dataframe tbody tr th:only-of-type {\n",
       "        vertical-align: middle;\n",
       "    }\n",
       "\n",
       "    .dataframe tbody tr th {\n",
       "        vertical-align: top;\n",
       "    }\n",
       "\n",
       "    .dataframe thead th {\n",
       "        text-align: right;\n",
       "    }\n",
       "</style>\n",
       "<table border=\"1\" class=\"dataframe\">\n",
       "  <thead>\n",
       "    <tr style=\"text-align: right;\">\n",
       "      <th></th>\n",
       "      <th>TV</th>\n",
       "      <th>Radio</th>\n",
       "      <th>Newspaper</th>\n",
       "      <th>Sales</th>\n",
       "    </tr>\n",
       "  </thead>\n",
       "  <tbody>\n",
       "    <tr>\n",
       "      <th>TV</th>\n",
       "      <td>1.000000</td>\n",
       "      <td>0.054809</td>\n",
       "      <td>0.056648</td>\n",
       "      <td>0.782224</td>\n",
       "    </tr>\n",
       "    <tr>\n",
       "      <th>Radio</th>\n",
       "      <td>0.054809</td>\n",
       "      <td>1.000000</td>\n",
       "      <td>0.354104</td>\n",
       "      <td>0.576223</td>\n",
       "    </tr>\n",
       "    <tr>\n",
       "      <th>Newspaper</th>\n",
       "      <td>0.056648</td>\n",
       "      <td>0.354104</td>\n",
       "      <td>1.000000</td>\n",
       "      <td>0.228299</td>\n",
       "    </tr>\n",
       "    <tr>\n",
       "      <th>Sales</th>\n",
       "      <td>0.782224</td>\n",
       "      <td>0.576223</td>\n",
       "      <td>0.228299</td>\n",
       "      <td>1.000000</td>\n",
       "    </tr>\n",
       "  </tbody>\n",
       "</table>\n",
       "</div>"
      ],
      "text/plain": [
       "                 TV     Radio  Newspaper     Sales\n",
       "TV         1.000000  0.054809   0.056648  0.782224\n",
       "Radio      0.054809  1.000000   0.354104  0.576223\n",
       "Newspaper  0.056648  0.354104   1.000000  0.228299\n",
       "Sales      0.782224  0.576223   0.228299  1.000000"
      ]
     },
     "execution_count": 15,
     "metadata": {},
     "output_type": "execute_result"
    }
   ],
   "source": [
    "df.corr()"
   ]
  },
  {
   "cell_type": "code",
   "execution_count": 16,
   "id": "0752568d",
   "metadata": {
    "execution": {
     "iopub.execute_input": "2023-09-13T07:27:53.031077Z",
     "iopub.status.busy": "2023-09-13T07:27:53.029931Z",
     "iopub.status.idle": "2023-09-13T07:27:53.459944Z",
     "shell.execute_reply": "2023-09-13T07:27:53.458762Z"
    },
    "papermill": {
     "duration": 0.451146,
     "end_time": "2023-09-13T07:27:53.463660",
     "exception": false,
     "start_time": "2023-09-13T07:27:53.012514",
     "status": "completed"
    },
    "tags": []
   },
   "outputs": [
    {
     "data": {
      "text/plain": [
       "<Axes: >"
      ]
     },
     "execution_count": 16,
     "metadata": {},
     "output_type": "execute_result"
    },
    {
     "data": {
      "image/png": "[encoded data removed]",
      "text/plain": [
       "<Figure size 640x480 with 2 Axes>"
      ]
     },
     "metadata": {},
     "output_type": "display_data"
    }
   ],
   "source": [
    "sns.heatmap(df.corr(),annot=True)"
   ]
  },
  {
   "cell_type": "code",
   "execution_count": 17,
   "id": "5e223bde",
   "metadata": {
    "execution": {
     "iopub.execute_input": "2023-09-13T07:27:53.512926Z",
     "iopub.status.busy": "2023-09-13T07:27:53.511767Z",
     "iopub.status.idle": "2023-09-13T07:27:53.524758Z",
     "shell.execute_reply": "2023-09-13T07:27:53.523198Z"
    },
    "papermill": {
     "duration": 0.041345,
     "end_time": "2023-09-13T07:27:53.528040",
     "exception": false,
     "start_time": "2023-09-13T07:27:53.486695",
     "status": "completed"
    },
    "tags": []
   },
   "outputs": [
    {
     "data": {
      "text/html": [
       "<div>\n",
       "<style scoped>\n",
       "    .dataframe tbody tr th:only-of-type {\n",
       "        vertical-align: middle;\n",
       "    }\n",
       "\n",
       "    .dataframe tbody tr th {\n",
       "        vertical-align: top;\n",
       "    }\n",
       "\n",
       "    .dataframe thead th {\n",
       "        text-align: right;\n",
       "    }\n",
       "</style>\n",
       "<table border=\"1\" class=\"dataframe\">\n",
       "  <thead>\n",
       "    <tr style=\"text-align: right;\">\n",
       "      <th></th>\n",
       "      <th>Sales</th>\n",
       "    </tr>\n",
       "  </thead>\n",
       "  <tbody>\n",
       "    <tr>\n",
       "      <th>TV</th>\n",
       "      <td>0.782224</td>\n",
       "    </tr>\n",
       "    <tr>\n",
       "      <th>Radio</th>\n",
       "      <td>0.576223</td>\n",
       "    </tr>\n",
       "    <tr>\n",
       "      <th>Newspaper</th>\n",
       "      <td>0.228299</td>\n",
       "    </tr>\n",
       "    <tr>\n",
       "      <th>Sales</th>\n",
       "      <td>1.000000</td>\n",
       "    </tr>\n",
       "  </tbody>\n",
       "</table>\n",
       "</div>"
      ],
      "text/plain": [
       "              Sales\n",
       "TV         0.782224\n",
       "Radio      0.576223\n",
       "Newspaper  0.228299\n",
       "Sales      1.000000"
      ]
     },
     "execution_count": 17,
     "metadata": {},
     "output_type": "execute_result"
    }
   ],
   "source": [
    "df_corr_sale=df.corr()['Sales'].to_frame()\n",
    "df_corr_sale"
   ]
  },
  {
   "cell_type": "code",
   "execution_count": 18,
   "id": "fea6418b",
   "metadata": {
    "execution": {
     "iopub.execute_input": "2023-09-13T07:27:53.565036Z",
     "iopub.status.busy": "2023-09-13T07:27:53.564574Z",
     "iopub.status.idle": "2023-09-13T07:27:53.848700Z",
     "shell.execute_reply": "2023-09-13T07:27:53.847786Z"
    },
    "papermill": {
     "duration": 0.305994,
     "end_time": "2023-09-13T07:27:53.852082",
     "exception": false,
     "start_time": "2023-09-13T07:27:53.546088",
     "status": "completed"
    },
    "tags": []
   },
   "outputs": [
    {
     "data": {
      "text/plain": [
       "<Axes: ylabel='Sales'>"
      ]
     },
     "execution_count": 18,
     "metadata": {},
     "output_type": "execute_result"
    },
    {
     "data": {
      "image/png": "[encoded data removed]",
      "text/plain": [
       "<Figure size 640x480 with 1 Axes>"
      ]
     },
     "metadata": {},
     "output_type": "display_data"
    }
   ],
   "source": [
    "sns.barplot(data=df_corr_sale,x=df_corr_sale.index,y='Sales')"
   ]
  },
  {
   "cell_type": "markdown",
   "id": "6eabf588",
   "metadata": {
    "papermill": {
     "duration": 0.017472,
     "end_time": "2023-09-13T07:27:53.890653",
     "exception": false,
     "start_time": "2023-09-13T07:27:53.873181",
     "status": "completed"
    },
    "tags": []
   },
   "source": [
    "### Linear Regression"
   ]
  },
  {
   "cell_type": "code",
   "execution_count": 19,
   "id": "96fa1c24",
   "metadata": {
    "execution": {
     "iopub.execute_input": "2023-09-13T07:27:53.928536Z",
     "iopub.status.busy": "2023-09-13T07:27:53.927475Z",
     "iopub.status.idle": "2023-09-13T07:27:54.374559Z",
     "shell.execute_reply": "2023-09-13T07:27:54.373200Z"
    },
    "papermill": {
     "duration": 0.468811,
     "end_time": "2023-09-13T07:27:54.377239",
     "exception": false,
     "start_time": "2023-09-13T07:27:53.908428",
     "status": "completed"
    },
    "tags": []
   },
   "outputs": [],
   "source": [
    "from sklearn.model_selection import train_test_split\n",
    "from sklearn.linear_model import LinearRegression"
   ]
  },
  {
   "cell_type": "code",
   "execution_count": 20,
   "id": "9cc2fdeb",
   "metadata": {
    "execution": {
     "iopub.execute_input": "2023-09-13T07:27:54.418213Z",
     "iopub.status.busy": "2023-09-13T07:27:54.417719Z",
     "iopub.status.idle": "2023-09-13T07:27:54.425887Z",
     "shell.execute_reply": "2023-09-13T07:27:54.424468Z"
    },
    "papermill": {
     "duration": 0.031675,
     "end_time": "2023-09-13T07:27:54.428352",
     "exception": false,
     "start_time": "2023-09-13T07:27:54.396677",
     "status": "completed"
    },
    "tags": []
   },
   "outputs": [],
   "source": [
    "y=df['Sales']\n",
    "x=df.drop(['Sales'],axis=1)"
   ]
  },
  {
   "cell_type": "code",
   "execution_count": 21,
   "id": "b4941082",
   "metadata": {
    "execution": {
     "iopub.execute_input": "2023-09-13T07:27:54.467506Z",
     "iopub.status.busy": "2023-09-13T07:27:54.467075Z",
     "iopub.status.idle": "2023-09-13T07:27:54.475730Z",
     "shell.execute_reply": "2023-09-13T07:27:54.474555Z"
    },
    "papermill": {
     "duration": 0.031461,
     "end_time": "2023-09-13T07:27:54.478082",
     "exception": false,
     "start_time": "2023-09-13T07:27:54.446621",
     "status": "completed"
    },
    "tags": []
   },
   "outputs": [],
   "source": [
    "x_train,x_test,y_train,y_test=train_test_split(x,y,test_size=0.3,random_state=42)"
   ]
  },
  {
   "cell_type": "code",
   "execution_count": 22,
   "id": "7c6d360e",
   "metadata": {
    "execution": {
     "iopub.execute_input": "2023-09-13T07:27:54.517309Z",
     "iopub.status.busy": "2023-09-13T07:27:54.516275Z",
     "iopub.status.idle": "2023-09-13T07:27:54.522281Z",
     "shell.execute_reply": "2023-09-13T07:27:54.521155Z"
    },
    "papermill": {
     "duration": 0.028952,
     "end_time": "2023-09-13T07:27:54.524915",
     "exception": false,
     "start_time": "2023-09-13T07:27:54.495963",
     "status": "completed"
    },
    "tags": []
   },
   "outputs": [],
   "source": [
    "lr=LinearRegression()"
   ]
  },
  {
   "cell_type": "code",
   "execution_count": 23,
   "id": "97a3fb79",
   "metadata": {
    "execution": {
     "iopub.execute_input": "2023-09-13T07:27:54.563224Z",
     "iopub.status.busy": "2023-09-13T07:27:54.562190Z",
     "iopub.status.idle": "2023-09-13T07:27:54.603886Z",
     "shell.execute_reply": "2023-09-13T07:27:54.602603Z"
    },
    "papermill": {
     "duration": 0.063784,
     "end_time": "2023-09-13T07:27:54.606437",
     "exception": false,
     "start_time": "2023-09-13T07:27:54.542653",
     "status": "completed"
    },
    "tags": []
   },
   "outputs": [
    {
     "data": {
      "text/html": [
       "<style>#sk-container-id-1 {color: black;background-color: white;}#sk-container-id-1 pre{padding: 0;}#sk-container-id-1 div.sk-toggleable {background-color: white;}#sk-container-id-1 label.sk-toggleable__label {cursor: pointer;display: block;width: 100%;margin-bottom: 0;padding: 0.3em;box-sizing: border-box;text-align: center;}#sk-container-id-1 label.sk-toggleable__label-arrow:before {content: \"▸\";float: left;margin-right: 0.25em;color: #696969;}#sk-container-id-1 label.sk-toggleable__label-arrow:hover:before {color: black;}#sk-container-id-1 div.sk-estimator:hover label.sk-toggleable__label-arrow:before {color: black;}#sk-container-id-1 div.sk-toggleable__content {max-height: 0;max-width: 0;overflow: hidden;text-align: left;background-color: #f0f8ff;}#sk-container-id-1 div.sk-toggleable__content pre {margin: 0.2em;color: black;border-radius: 0.25em;background-color: #f0f8ff;}#sk-container-id-1 input.sk-toggleable__control:checked~div.sk-toggleable__content {max-height: 200px;max-width: 100%;overflow: auto;}#sk-container-id-1 input.sk-toggleable__control:checked~label.sk-toggleable__label-arrow:before {content: \"▾\";}#sk-container-id-1 div.sk-estimator input.sk-toggleable__control:checked~label.sk-toggleable__label {background-color: #d4ebff;}#sk-container-id-1 div.sk-label input.sk-toggleable__control:checked~label.sk-toggleable__label {background-color: #d4ebff;}#sk-container-id-1 input.sk-hidden--visually {border: 0;clip: rect(1px 1px 1px 1px);clip: rect(1px, 1px, 1px, 1px);height: 1px;margin: -1px;overflow: hidden;padding: 0;position: absolute;width: 1px;}#sk-container-id-1 div.sk-estimator {font-family: monospace;background-color: #f0f8ff;border: 1px dotted black;border-radius: 0.25em;box-sizing: border-box;margin-bottom: 0.5em;}#sk-container-id-1 div.sk-estimator:hover {background-color: #d4ebff;}#sk-container-id-1 div.sk-parallel-item::after {content: \"\";width: 100%;border-bottom: 1px solid gray;flex-grow: 1;}#sk-container-id-1 div.sk-label:hover label.sk-toggleable__label {background-color: #d4ebff;}#sk-container-id-1 div.sk-serial::before {content: \"\";position: absolute;border-left: 1px solid gray;box-sizing: border-box;top: 0;bottom: 0;left: 50%;z-index: 0;}#sk-container-id-1 div.sk-serial {display: flex;flex-direction: column;align-items: center;background-color: white;padding-right: 0.2em;padding-left: 0.2em;position: relative;}#sk-container-id-1 div.sk-item {position: relative;z-index: 1;}#sk-container-id-1 div.sk-parallel {display: flex;align-items: stretch;justify-content: center;background-color: white;position: relative;}#sk-container-id-1 div.sk-item::before, #sk-container-id-1 div.sk-parallel-item::before {content: \"\";position: absolute;border-left: 1px solid gray;box-sizing: border-box;top: 0;bottom: 0;left: 50%;z-index: -1;}#sk-container-id-1 div.sk-parallel-item {display: flex;flex-direction: column;z-index: 1;position: relative;background-color: white;}#sk-container-id-1 div.sk-parallel-item:first-child::after {align-self: flex-end;width: 50%;}#sk-container-id-1 div.sk-parallel-item:last-child::after {align-self: flex-start;width: 50%;}#sk-container-id-1 div.sk-parallel-item:only-child::after {width: 0;}#sk-container-id-1 div.sk-dashed-wrapped {border: 1px dashed gray;margin: 0 0.4em 0.5em 0.4em;box-sizing: border-box;padding-bottom: 0.4em;background-color: white;}#sk-container-id-1 div.sk-label label {font-family: monospace;font-weight: bold;display: inline-block;line-height: 1.2em;}#sk-container-id-1 div.sk-label-container {text-align: center;}#sk-container-id-1 div.sk-container {/* jupyter's `normalize.less` sets `[hidden] { display: none; }` but bootstrap.min.css set `[hidden] { display: none !important; }` so we also need the `!important` here to be able to override the default hidden behavior on the sphinx rendered scikit-learn.org. See: https://github.com/scikit-learn/scikit-learn/issues/21755 */display: inline-block !important;position: relative;}#sk-container-id-1 div.sk-text-repr-fallback {display: none;}</style><div id=\"sk-container-id-1\" class=\"sk-top-container\"><div class=\"sk-text-repr-fallback\"><pre>LinearRegression()</pre><b>In a Jupyter environment, please rerun this cell to show the HTML representation or trust the notebook. <br />On GitHub, the HTML representation is unable to render, please try loading this page with nbviewer.org.</b></div><div class=\"sk-container\" hidden><div class=\"sk-item\"><div class=\"sk-estimator sk-toggleable\"><input class=\"sk-toggleable__control sk-hidden--visually\" id=\"sk-estimator-id-1\" type=\"checkbox\" checked><label for=\"sk-estimator-id-1\" class=\"sk-toggleable__label sk-toggleable__label-arrow\">LinearRegression</label><div class=\"sk-toggleable__content\"><pre>LinearRegression()</pre></div></div></div></div></div>"
      ],
      "text/plain": [
       "LinearRegression()"
      ]
     },
     "execution_count": 23,
     "metadata": {},
     "output_type": "execute_result"
    }
   ],
   "source": [
    "lr.fit(x_train,y_train)"
   ]
  },
  {
   "cell_type": "code",
   "execution_count": 24,
   "id": "7e4721e0",
   "metadata": {
    "execution": {
     "iopub.execute_input": "2023-09-13T07:27:54.648188Z",
     "iopub.status.busy": "2023-09-13T07:27:54.647764Z",
     "iopub.status.idle": "2023-09-13T07:27:54.655406Z",
     "shell.execute_reply": "2023-09-13T07:27:54.654125Z"
    },
    "papermill": {
     "duration": 0.030237,
     "end_time": "2023-09-13T07:27:54.658182",
     "exception": false,
     "start_time": "2023-09-13T07:27:54.627945",
     "status": "completed"
    },
    "tags": []
   },
   "outputs": [
    {
     "data": {
      "text/plain": [
       "array([0.04405928, 0.1992875 , 0.00688245])"
      ]
     },
     "execution_count": 24,
     "metadata": {},
     "output_type": "execute_result"
    }
   ],
   "source": [
    "lr.coef_"
   ]
  },
  {
   "cell_type": "code",
   "execution_count": 25,
   "id": "035d1e3d",
   "metadata": {
    "execution": {
     "iopub.execute_input": "2023-09-13T07:27:54.698619Z",
     "iopub.status.busy": "2023-09-13T07:27:54.698171Z",
     "iopub.status.idle": "2023-09-13T07:27:54.705669Z",
     "shell.execute_reply": "2023-09-13T07:27:54.704783Z"
    },
    "papermill": {
     "duration": 0.031814,
     "end_time": "2023-09-13T07:27:54.708186",
     "exception": false,
     "start_time": "2023-09-13T07:27:54.676372",
     "status": "completed"
    },
    "tags": []
   },
   "outputs": [
    {
     "data": {
      "text/plain": [
       "2.7089490925159065"
      ]
     },
     "execution_count": 25,
     "metadata": {},
     "output_type": "execute_result"
    }
   ],
   "source": [
    "lr.intercept_"
   ]
  },
  {
   "cell_type": "code",
   "execution_count": 26,
   "id": "1c289c1c",
   "metadata": {
    "execution": {
     "iopub.execute_input": "2023-09-13T07:27:54.747674Z",
     "iopub.status.busy": "2023-09-13T07:27:54.746593Z",
     "iopub.status.idle": "2023-09-13T07:27:54.757892Z",
     "shell.execute_reply": "2023-09-13T07:27:54.756802Z"
    },
    "papermill": {
     "duration": 0.033338,
     "end_time": "2023-09-13T07:27:54.760320",
     "exception": false,
     "start_time": "2023-09-13T07:27:54.726982",
     "status": "completed"
    },
    "tags": []
   },
   "outputs": [
    {
     "data": {
      "text/plain": [
       "0.9055159502227753"
      ]
     },
     "execution_count": 26,
     "metadata": {},
     "output_type": "execute_result"
    }
   ],
   "source": [
    "lr.score(x_train,y_train)"
   ]
  },
  {
   "cell_type": "code",
   "execution_count": 27,
   "id": "956f7aa4",
   "metadata": {
    "execution": {
     "iopub.execute_input": "2023-09-13T07:27:54.799694Z",
     "iopub.status.busy": "2023-09-13T07:27:54.799266Z",
     "iopub.status.idle": "2023-09-13T07:27:54.810018Z",
     "shell.execute_reply": "2023-09-13T07:27:54.808545Z"
    },
    "papermill": {
     "duration": 0.033455,
     "end_time": "2023-09-13T07:27:54.812588",
     "exception": false,
     "start_time": "2023-09-13T07:27:54.779133",
     "status": "completed"
    },
    "tags": []
   },
   "outputs": [
    {
     "data": {
      "text/plain": [
       "0.8609466508230368"
      ]
     },
     "execution_count": 27,
     "metadata": {},
     "output_type": "execute_result"
    }
   ],
   "source": [
    "lr.score(x_test,y_test)"
   ]
  },
  {
   "cell_type": "code",
   "execution_count": 28,
   "id": "a07963be",
   "metadata": {
    "execution": {
     "iopub.execute_input": "2023-09-13T07:27:54.852212Z",
     "iopub.status.busy": "2023-09-13T07:27:54.851730Z",
     "iopub.status.idle": "2023-09-13T07:27:54.860052Z",
     "shell.execute_reply": "2023-09-13T07:27:54.858465Z"
    },
    "papermill": {
     "duration": 0.03177,
     "end_time": "2023-09-13T07:27:54.862867",
     "exception": false,
     "start_time": "2023-09-13T07:27:54.831097",
     "status": "completed"
    },
    "tags": []
   },
   "outputs": [],
   "source": [
    "y_pred=lr.predict(x_test)"
   ]
  },
  {
   "cell_type": "code",
   "execution_count": 29,
   "id": "a4caf988",
   "metadata": {
    "execution": {
     "iopub.execute_input": "2023-09-13T07:27:54.902815Z",
     "iopub.status.busy": "2023-09-13T07:27:54.902381Z",
     "iopub.status.idle": "2023-09-13T07:27:54.910152Z",
     "shell.execute_reply": "2023-09-13T07:27:54.908983Z"
    },
    "papermill": {
     "duration": 0.030961,
     "end_time": "2023-09-13T07:27:54.912454",
     "exception": false,
     "start_time": "2023-09-13T07:27:54.881493",
     "status": "completed"
    },
    "tags": []
   },
   "outputs": [
    {
     "data": {
      "text/plain": [
       "array([16.5653963 , 21.18822792, 21.55107058, 10.88923816, 22.20231988])"
      ]
     },
     "execution_count": 29,
     "metadata": {},
     "output_type": "execute_result"
    }
   ],
   "source": [
    "y_pred[:5]"
   ]
  },
  {
   "cell_type": "code",
   "execution_count": 30,
   "id": "eff73c06",
   "metadata": {
    "execution": {
     "iopub.execute_input": "2023-09-13T07:27:54.951228Z",
     "iopub.status.busy": "2023-09-13T07:27:54.950793Z",
     "iopub.status.idle": "2023-09-13T07:27:54.957405Z",
     "shell.execute_reply": "2023-09-13T07:27:54.956193Z"
    },
    "papermill": {
     "duration": 0.028975,
     "end_time": "2023-09-13T07:27:54.959973",
     "exception": false,
     "start_time": "2023-09-13T07:27:54.930998",
     "status": "completed"
    },
    "tags": []
   },
   "outputs": [],
   "source": [
    "df_test_pred=pd.DataFrame({'Actual Values':y_test,\"Predicted values\":y_pred})"
   ]
  },
  {
   "cell_type": "code",
   "execution_count": 31,
   "id": "21947132",
   "metadata": {
    "execution": {
     "iopub.execute_input": "2023-09-13T07:27:55.000518Z",
     "iopub.status.busy": "2023-09-13T07:27:55.000101Z",
     "iopub.status.idle": "2023-09-13T07:27:55.023033Z",
     "shell.execute_reply": "2023-09-13T07:27:55.021846Z"
    },
    "papermill": {
     "duration": 0.045848,
     "end_time": "2023-09-13T07:27:55.025578",
     "exception": false,
     "start_time": "2023-09-13T07:27:54.979730",
     "status": "completed"
    },
    "tags": []
   },
   "outputs": [
    {
     "data": {
      "text/html": [
       "<div>\n",
       "<style scoped>\n",
       "    .dataframe tbody tr th:only-of-type {\n",
       "        vertical-align: middle;\n",
       "    }\n",
       "\n",
       "    .dataframe tbody tr th {\n",
       "        vertical-align: top;\n",
       "    }\n",
       "\n",
       "    .dataframe thead th {\n",
       "        text-align: right;\n",
       "    }\n",
       "</style>\n",
       "<table border=\"1\" class=\"dataframe\">\n",
       "  <thead>\n",
       "    <tr style=\"text-align: right;\">\n",
       "      <th></th>\n",
       "      <th>Actual Values</th>\n",
       "      <th>Predicted values</th>\n",
       "    </tr>\n",
       "  </thead>\n",
       "  <tbody>\n",
       "    <tr>\n",
       "      <th>95</th>\n",
       "      <td>16.9</td>\n",
       "      <td>16.565396</td>\n",
       "    </tr>\n",
       "    <tr>\n",
       "      <th>15</th>\n",
       "      <td>22.4</td>\n",
       "      <td>21.188228</td>\n",
       "    </tr>\n",
       "    <tr>\n",
       "      <th>30</th>\n",
       "      <td>21.4</td>\n",
       "      <td>21.551071</td>\n",
       "    </tr>\n",
       "    <tr>\n",
       "      <th>158</th>\n",
       "      <td>7.3</td>\n",
       "      <td>10.889238</td>\n",
       "    </tr>\n",
       "    <tr>\n",
       "      <th>128</th>\n",
       "      <td>24.7</td>\n",
       "      <td>22.202320</td>\n",
       "    </tr>\n",
       "    <tr>\n",
       "      <th>115</th>\n",
       "      <td>12.6</td>\n",
       "      <td>13.355569</td>\n",
       "    </tr>\n",
       "    <tr>\n",
       "      <th>69</th>\n",
       "      <td>22.3</td>\n",
       "      <td>21.196925</td>\n",
       "    </tr>\n",
       "    <tr>\n",
       "      <th>170</th>\n",
       "      <td>8.4</td>\n",
       "      <td>7.350285</td>\n",
       "    </tr>\n",
       "    <tr>\n",
       "      <th>174</th>\n",
       "      <td>11.5</td>\n",
       "      <td>13.275471</td>\n",
       "    </tr>\n",
       "    <tr>\n",
       "      <th>45</th>\n",
       "      <td>14.9</td>\n",
       "      <td>15.124495</td>\n",
       "    </tr>\n",
       "    <tr>\n",
       "      <th>66</th>\n",
       "      <td>9.5</td>\n",
       "      <td>9.014430</td>\n",
       "    </tr>\n",
       "    <tr>\n",
       "      <th>182</th>\n",
       "      <td>8.7</td>\n",
       "      <td>6.525428</td>\n",
       "    </tr>\n",
       "    <tr>\n",
       "      <th>165</th>\n",
       "      <td>11.9</td>\n",
       "      <td>14.302060</td>\n",
       "    </tr>\n",
       "    <tr>\n",
       "      <th>78</th>\n",
       "      <td>5.3</td>\n",
       "      <td>8.970260</td>\n",
       "    </tr>\n",
       "    <tr>\n",
       "      <th>186</th>\n",
       "      <td>10.3</td>\n",
       "      <td>9.456796</td>\n",
       "    </tr>\n",
       "    <tr>\n",
       "      <th>177</th>\n",
       "      <td>11.7</td>\n",
       "      <td>12.004544</td>\n",
       "    </tr>\n",
       "    <tr>\n",
       "      <th>56</th>\n",
       "      <td>5.5</td>\n",
       "      <td>8.915494</td>\n",
       "    </tr>\n",
       "    <tr>\n",
       "      <th>152</th>\n",
       "      <td>16.6</td>\n",
       "      <td>16.156193</td>\n",
       "    </tr>\n",
       "    <tr>\n",
       "      <th>82</th>\n",
       "      <td>11.3</td>\n",
       "      <td>10.295829</td>\n",
       "    </tr>\n",
       "    <tr>\n",
       "      <th>68</th>\n",
       "      <td>18.9</td>\n",
       "      <td>18.724736</td>\n",
       "    </tr>\n",
       "    <tr>\n",
       "      <th>124</th>\n",
       "      <td>19.7</td>\n",
       "      <td>19.768218</td>\n",
       "    </tr>\n",
       "    <tr>\n",
       "      <th>16</th>\n",
       "      <td>12.5</td>\n",
       "      <td>13.774690</td>\n",
       "    </tr>\n",
       "    <tr>\n",
       "      <th>148</th>\n",
       "      <td>10.9</td>\n",
       "      <td>12.496389</td>\n",
       "    </tr>\n",
       "    <tr>\n",
       "      <th>93</th>\n",
       "      <td>22.2</td>\n",
       "      <td>21.535018</td>\n",
       "    </tr>\n",
       "    <tr>\n",
       "      <th>65</th>\n",
       "      <td>9.3</td>\n",
       "      <td>7.608607</td>\n",
       "    </tr>\n",
       "    <tr>\n",
       "      <th>60</th>\n",
       "      <td>8.1</td>\n",
       "      <td>5.611980</td>\n",
       "    </tr>\n",
       "    <tr>\n",
       "      <th>84</th>\n",
       "      <td>21.7</td>\n",
       "      <td>20.917595</td>\n",
       "    </tr>\n",
       "    <tr>\n",
       "      <th>67</th>\n",
       "      <td>13.4</td>\n",
       "      <td>11.806277</td>\n",
       "    </tr>\n",
       "    <tr>\n",
       "      <th>125</th>\n",
       "      <td>10.6</td>\n",
       "      <td>9.080766</td>\n",
       "    </tr>\n",
       "    <tr>\n",
       "      <th>132</th>\n",
       "      <td>5.7</td>\n",
       "      <td>8.514120</td>\n",
       "    </tr>\n",
       "    <tr>\n",
       "      <th>9</th>\n",
       "      <td>10.6</td>\n",
       "      <td>12.176049</td>\n",
       "    </tr>\n",
       "    <tr>\n",
       "      <th>18</th>\n",
       "      <td>11.3</td>\n",
       "      <td>9.969194</td>\n",
       "    </tr>\n",
       "    <tr>\n",
       "      <th>55</th>\n",
       "      <td>23.7</td>\n",
       "      <td>21.730090</td>\n",
       "    </tr>\n",
       "    <tr>\n",
       "      <th>75</th>\n",
       "      <td>8.7</td>\n",
       "      <td>12.777706</td>\n",
       "    </tr>\n",
       "    <tr>\n",
       "      <th>150</th>\n",
       "      <td>16.1</td>\n",
       "      <td>18.101136</td>\n",
       "    </tr>\n",
       "    <tr>\n",
       "      <th>104</th>\n",
       "      <td>20.7</td>\n",
       "      <td>20.075908</td>\n",
       "    </tr>\n",
       "    <tr>\n",
       "      <th>135</th>\n",
       "      <td>11.6</td>\n",
       "      <td>14.262026</td>\n",
       "    </tr>\n",
       "    <tr>\n",
       "      <th>137</th>\n",
       "      <td>20.8</td>\n",
       "      <td>20.938265</td>\n",
       "    </tr>\n",
       "    <tr>\n",
       "      <th>164</th>\n",
       "      <td>11.9</td>\n",
       "      <td>10.839388</td>\n",
       "    </tr>\n",
       "    <tr>\n",
       "      <th>76</th>\n",
       "      <td>6.9</td>\n",
       "      <td>4.381906</td>\n",
       "    </tr>\n",
       "    <tr>\n",
       "      <th>79</th>\n",
       "      <td>11.0</td>\n",
       "      <td>9.513324</td>\n",
       "    </tr>\n",
       "    <tr>\n",
       "      <th>197</th>\n",
       "      <td>12.8</td>\n",
       "      <td>12.404863</td>\n",
       "    </tr>\n",
       "    <tr>\n",
       "      <th>38</th>\n",
       "      <td>10.1</td>\n",
       "      <td>10.170454</td>\n",
       "    </tr>\n",
       "    <tr>\n",
       "      <th>24</th>\n",
       "      <td>9.7</td>\n",
       "      <td>8.090814</td>\n",
       "    </tr>\n",
       "    <tr>\n",
       "      <th>122</th>\n",
       "      <td>11.6</td>\n",
       "      <td>13.163884</td>\n",
       "    </tr>\n",
       "    <tr>\n",
       "      <th>195</th>\n",
       "      <td>7.6</td>\n",
       "      <td>5.224355</td>\n",
       "    </tr>\n",
       "    <tr>\n",
       "      <th>29</th>\n",
       "      <td>10.5</td>\n",
       "      <td>9.288938</td>\n",
       "    </tr>\n",
       "    <tr>\n",
       "      <th>19</th>\n",
       "      <td>14.6</td>\n",
       "      <td>14.093307</td>\n",
       "    </tr>\n",
       "    <tr>\n",
       "      <th>143</th>\n",
       "      <td>10.4</td>\n",
       "      <td>8.690245</td>\n",
       "    </tr>\n",
       "    <tr>\n",
       "      <th>86</th>\n",
       "      <td>12.0</td>\n",
       "      <td>11.661198</td>\n",
       "    </tr>\n",
       "    <tr>\n",
       "      <th>114</th>\n",
       "      <td>14.6</td>\n",
       "      <td>15.718484</td>\n",
       "    </tr>\n",
       "    <tr>\n",
       "      <th>173</th>\n",
       "      <td>11.7</td>\n",
       "      <td>11.631569</td>\n",
       "    </tr>\n",
       "    <tr>\n",
       "      <th>5</th>\n",
       "      <td>7.2</td>\n",
       "      <td>13.353607</td>\n",
       "    </tr>\n",
       "    <tr>\n",
       "      <th>126</th>\n",
       "      <td>6.6</td>\n",
       "      <td>11.153147</td>\n",
       "    </tr>\n",
       "    <tr>\n",
       "      <th>117</th>\n",
       "      <td>9.4</td>\n",
       "      <td>6.336368</td>\n",
       "    </tr>\n",
       "    <tr>\n",
       "      <th>73</th>\n",
       "      <td>11.0</td>\n",
       "      <td>9.761580</td>\n",
       "    </tr>\n",
       "    <tr>\n",
       "      <th>140</th>\n",
       "      <td>10.9</td>\n",
       "      <td>9.419571</td>\n",
       "    </tr>\n",
       "    <tr>\n",
       "      <th>98</th>\n",
       "      <td>25.4</td>\n",
       "      <td>24.255165</td>\n",
       "    </tr>\n",
       "    <tr>\n",
       "      <th>172</th>\n",
       "      <td>7.6</td>\n",
       "      <td>7.695191</td>\n",
       "    </tr>\n",
       "    <tr>\n",
       "      <th>96</th>\n",
       "      <td>11.7</td>\n",
       "      <td>12.153176</td>\n",
       "    </tr>\n",
       "  </tbody>\n",
       "</table>\n",
       "</div>"
      ],
      "text/plain": [
       "     Actual Values  Predicted values\n",
       "95            16.9         16.565396\n",
       "15            22.4         21.188228\n",
       "30            21.4         21.551071\n",
       "158            7.3         10.889238\n",
       "128           24.7         22.202320\n",
       "115           12.6         13.355569\n",
       "69            22.3         21.196925\n",
       "170            8.4          7.350285\n",
       "174           11.5         13.275471\n",
       "45            14.9         15.124495\n",
       "66             9.5          9.014430\n",
       "182            8.7          6.525428\n",
       "165           11.9         14.302060\n",
       "78             5.3          8.970260\n",
       "186           10.3          9.456796\n",
       "177           11.7         12.004544\n",
       "56             5.5          8.915494\n",
       "152           16.6         16.156193\n",
       "82            11.3         10.295829\n",
       "68            18.9         18.724736\n",
       "124           19.7         19.768218\n",
       "16            12.5         13.774690\n",
       "148           10.9         12.496389\n",
       "93            22.2         21.535018\n",
       "65             9.3          7.608607\n",
       "60             8.1          5.611980\n",
       "84            21.7         20.917595\n",
       "67            13.4         11.806277\n",
       "125           10.6          9.080766\n",
       "132            5.7          8.514120\n",
       "9             10.6         12.176049\n",
       "18            11.3          9.969194\n",
       "55            23.7         21.730090\n",
       "75             8.7         12.777706\n",
       "150           16.1         18.101136\n",
       "104           20.7         20.075908\n",
       "135           11.6         14.262026\n",
       "137           20.8         20.938265\n",
       "164           11.9         10.839388\n",
       "76             6.9          4.381906\n",
       "79            11.0          9.513324\n",
       "197           12.8         12.404863\n",
       "38            10.1         10.170454\n",
       "24             9.7          8.090814\n",
       "122           11.6         13.163884\n",
       "195            7.6          5.224355\n",
       "29            10.5          9.288938\n",
       "19            14.6         14.093307\n",
       "143           10.4          8.690245\n",
       "86            12.0         11.661198\n",
       "114           14.6         15.718484\n",
       "173           11.7         11.631569\n",
       "5              7.2         13.353607\n",
       "126            6.6         11.153147\n",
       "117            9.4          6.336368\n",
       "73            11.0          9.761580\n",
       "140           10.9          9.419571\n",
       "98            25.4         24.255165\n",
       "172            7.6          7.695191\n",
       "96            11.7         12.153176"
      ]
     },
     "execution_count": 31,
     "metadata": {},
     "output_type": "execute_result"
    }
   ],
   "source": [
    "df_test_pred"
   ]
  },
  {
   "cell_type": "markdown",
   "id": "e369ae0c",
   "metadata": {
    "papermill": {
     "duration": 0.019415,
     "end_time": "2023-09-13T07:27:55.064222",
     "exception": false,
     "start_time": "2023-09-13T07:27:55.044807",
     "status": "completed"
    },
    "tags": []
   },
   "source": [
    "### Predictive Analytics"
   ]
  },
  {
   "cell_type": "code",
   "execution_count": 32,
   "id": "9d31a48e",
   "metadata": {
    "execution": {
     "iopub.execute_input": "2023-09-13T07:27:55.110248Z",
     "iopub.status.busy": "2023-09-13T07:27:55.109007Z",
     "iopub.status.idle": "2023-09-13T07:27:55.118048Z",
     "shell.execute_reply": "2023-09-13T07:27:55.116801Z"
    },
    "papermill": {
     "duration": 0.033114,
     "end_time": "2023-09-13T07:27:55.120715",
     "exception": false,
     "start_time": "2023-09-13T07:27:55.087601",
     "status": "completed"
    },
    "tags": []
   },
   "outputs": [
    {
     "data": {
      "text/plain": [
       "array([100,  50,  50])"
      ]
     },
     "execution_count": 32,
     "metadata": {},
     "output_type": "execute_result"
    }
   ],
   "source": [
    "array=np.array([100,50,50])\n",
    "array"
   ]
  },
  {
   "cell_type": "code",
   "execution_count": 33,
   "id": "f5eeed6e",
   "metadata": {
    "execution": {
     "iopub.execute_input": "2023-09-13T07:27:55.165954Z",
     "iopub.status.busy": "2023-09-13T07:27:55.165170Z",
     "iopub.status.idle": "2023-09-13T07:27:55.174936Z",
     "shell.execute_reply": "2023-09-13T07:27:55.173695Z"
    },
    "papermill": {
     "duration": 0.037039,
     "end_time": "2023-09-13T07:27:55.177992",
     "exception": false,
     "start_time": "2023-09-13T07:27:55.140953",
     "status": "completed"
    },
    "tags": []
   },
   "outputs": [
    {
     "data": {
      "text/plain": [
       "array([[100,  50,  50]])"
      ]
     },
     "execution_count": 33,
     "metadata": {},
     "output_type": "execute_result"
    }
   ],
   "source": [
    "new_array=array.reshape(1,-1)\n",
    "new_array"
   ]
  },
  {
   "cell_type": "code",
   "execution_count": 34,
   "id": "2830d01a",
   "metadata": {
    "execution": {
     "iopub.execute_input": "2023-09-13T07:27:55.230945Z",
     "iopub.status.busy": "2023-09-13T07:27:55.230407Z",
     "iopub.status.idle": "2023-09-13T07:27:55.241621Z",
     "shell.execute_reply": "2023-09-13T07:27:55.240454Z"
    },
    "papermill": {
     "duration": 0.040075,
     "end_time": "2023-09-13T07:27:55.244694",
     "exception": false,
     "start_time": "2023-09-13T07:27:55.204619",
     "status": "completed"
    },
    "tags": []
   },
   "outputs": [
    {
     "name": "stderr",
     "output_type": "stream",
     "text": [
      "/opt/conda/lib/python3.10/site-packages/sklearn/base.py:439: UserWarning: X does not have valid feature names, but LinearRegression was fitted with feature names\n",
      "  warnings.warn(\n"
     ]
    },
    {
     "data": {
      "text/plain": [
       "array([17.42337464])"
      ]
     },
     "execution_count": 34,
     "metadata": {},
     "output_type": "execute_result"
    }
   ],
   "source": [
    "y_pred_array=lr.predict(new_array)\n",
    "y_pred_array"
   ]
  },
  {
   "cell_type": "markdown",
   "id": "2a1f02d2",
   "metadata": {
    "papermill": {
     "duration": 0.020074,
     "end_time": "2023-09-13T07:27:55.285637",
     "exception": false,
     "start_time": "2023-09-13T07:27:55.265563",
     "status": "completed"
    },
    "tags": []
   },
   "source": [
    "### Thanks And Regards\n",
    "## Anubhav Kumar Gupta"
   ]
  }
 ],
 "kernelspec": {
  "display_name": "Python 3",
  "language": "python",
  "name": "python3"
 },
 "language_info": {
  "codemirror_mode": {
   "name": "ipython",
   "version": 3
  },
  "file_extension": ".py",
  "mimetype": "text/x-python",
  "name": "python",
  "nbconvert_exporter": "python",
  "pygments_lexer": "ipython3",
  "version": "3.6.4"
 },
 "metadata": {
  "kernelspec": {
   "display_name": "Python 3",
   "language": "python",
   "name": "python3"
  },
  "language_info": {
   "codemirror_mode": {
    "name": "ipython",
    "version": 3
   },
   "file_extension": ".py",
   "mimetype": "text/x-python",
   "name": "python",
   "nbconvert_exporter": "python",
   "pygments_lexer": "ipython3",
   "version": "3.10.12"
  },
  "papermill": {
   "default_parameters": {},
   "duration": 20.80376,
   "end_time": "2023-09-13T07:27:57.574895",
   "environment_variables": {},
   "exception": null,
   "input_path": "__notebook__.ipynb",
   "output_path": "__notebook__.ipynb",
   "parameters": {},
   "start_time": "2023-09-13T07:27:36.771135",
   "version": "2.4.0"
  }
 },
 "nbformat": 4,
 "nbformat_minor": 5
}
